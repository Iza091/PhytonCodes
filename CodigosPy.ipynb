{
  "nbformat": 4,
  "nbformat_minor": 0,
  "metadata": {
    "colab": {
      "name": "CodigosPy.ipynb",
      "provenance": [],
      "authorship_tag": "ABX9TyN01wHo1PAzW86otLrFy6/D",
      "include_colab_link": true
    },
    "kernelspec": {
      "name": "python3",
      "display_name": "Python 3"
    },
    "language_info": {
      "name": "python"
    }
  },
  "cells": [
    {
      "cell_type": "markdown",
      "metadata": {
        "id": "view-in-github",
        "colab_type": "text"
      },
      "source": [
        "<a href=\"https://colab.research.google.com/github/Iza091/PhytonCodes/blob/main/CodigosPy.ipynb\" target=\"_parent\"><img src=\"https://colab.research.google.com/assets/colab-badge.svg\" alt=\"Open In Colab\"/></a>"
      ]
    },
    {
      "cell_type": "code",
      "execution_count": 1,
      "metadata": {
        "colab": {
          "base_uri": "https://localhost:8080/"
        },
        "id": "L_A0aOh_s_R6",
        "outputId": "762ed6e5-43ca-489e-955e-9d87a624c19a"
      },
      "outputs": [
        {
          "output_type": "stream",
          "name": "stdout",
          "text": [
            "Hola Mundo \n",
            "Mi nombre es Iza\n",
            "Mi edad es: 23\n"
          ]
        }
      ],
      "source": [
        "print(\"Hola Mundo \")\n",
        "nombre=\"Iza\"\n",
        "print(\"Mi nombre es\",nombre)\n",
        "edad= 23\n",
        "print(\"Mi edad es:\",edad)\n"
      ]
    },
    {
      "cell_type": "code",
      "source": [
        "nombre=\"Isaias Ortiz\"\n",
        "print(\"Tu nombre es:\",nombre,\"la longitud de tu nombre:\",len(nombre),\"; las iniciales:\",nombre[0],nombre[7])"
      ],
      "metadata": {
        "colab": {
          "base_uri": "https://localhost:8080/"
        },
        "id": "gbLMEGDStcRd",
        "outputId": "7549881c-e9be-4357-ffee-4d7766637b47"
      },
      "execution_count": 2,
      "outputs": [
        {
          "output_type": "stream",
          "name": "stdout",
          "text": [
            "Tu nombre es: Isaias Ortiz la longitud de tu nombre: 12 ; las iniciales: I O\n"
          ]
        }
      ]
    },
    {
      "cell_type": "code",
      "source": [
        "num1=3\n",
        "num2=6.9\n",
        "resp= num1 + num2\n",
        "print(\"La suma de:\",num1,\"+\",num2,\"es igual a:\",resp,)"
      ],
      "metadata": {
        "colab": {
          "base_uri": "https://localhost:8080/"
        },
        "id": "PpPUvlk1t-Pq",
        "outputId": "7c86bc9d-967f-4b63-a6b4-70d41ffe093e"
      },
      "execution_count": 3,
      "outputs": [
        {
          "output_type": "stream",
          "name": "stdout",
          "text": [
            "La suma de: 3 + 6.9 es igual a: 9.9\n"
          ]
        }
      ]
    },
    {
      "cell_type": "code",
      "source": [
        "num1=9\n",
        "num2=4.5\n",
        "resp=num1-num2\n",
        "print(\"La resta de:\",num1,\"-\",num2,\"es igual a:\",resp,)"
      ],
      "metadata": {
        "colab": {
          "base_uri": "https://localhost:8080/"
        },
        "id": "JKhA7mxUuIzs",
        "outputId": "4f17d936-7b55-4915-ecb6-9bb189a7e85f"
      },
      "execution_count": 4,
      "outputs": [
        {
          "output_type": "stream",
          "name": "stdout",
          "text": [
            "La resta de: 9 - 4.5 es igual a: 4.5\n"
          ]
        }
      ]
    },
    {
      "cell_type": "code",
      "source": [
        "num1=float(input(\"Ingrese un número entero: \"))\n",
        "num2=float(input(\"Ingrese otro número decimal: \"))\n",
        "resp=num1+num2\n",
        "print(\"Total:\",resp)"
      ],
      "metadata": {
        "colab": {
          "base_uri": "https://localhost:8080/"
        },
        "id": "HilG8IsuuTgE",
        "outputId": "a181d817-ad73-45d2-f075-caf1ac9c9a26"
      },
      "execution_count": 5,
      "outputs": [
        {
          "output_type": "stream",
          "name": "stdout",
          "text": [
            "Ingrese un número entero: 45\n",
            "Ingrese otro número decimal: 2.3\n",
            "Total: 47.3\n"
          ]
        }
      ]
    },
    {
      "cell_type": "code",
      "source": [
        "nombre=input(\"¿Cómo te llamas?: \")\n",
        "print(nombre,  type(nombre), len(nombre))\n",
        "\n",
        "print(nombre[0])"
      ],
      "metadata": {
        "colab": {
          "base_uri": "https://localhost:8080/"
        },
        "id": "noDURNSFuzxd",
        "outputId": "b96bcc55-3863-4dc8-b5fc-3f232a830930"
      },
      "execution_count": null,
      "outputs": [
        {
          "output_type": "stream",
          "name": "stdout",
          "text": [
            "¿Cómo te llamas?: Iza\n",
            "Iza <class 'str'> 3\n",
            "I\n"
          ]
        }
      ]
    },
    {
      "cell_type": "code",
      "source": [
        "def suma(num1, num2):\n",
        "  return num1 + num2\n",
        "num1= float(input(\"digite un número: \"))\n",
        "num2= float(input(\"digita otro número: \"))\n",
        "\n",
        "print(\"La suma de:\",suma(num1, num2))"
      ],
      "metadata": {
        "colab": {
          "base_uri": "https://localhost:8080/"
        },
        "id": "7LRKsK2RZ0qx",
        "outputId": "0aaf8bc3-fc15-40c7-b6a7-5e2ae1871ea3"
      },
      "execution_count": 71,
      "outputs": [
        {
          "output_type": "stream",
          "name": "stdout",
          "text": [
            "digite un número: 0.4\n",
            "digita otro número: 0.6\n",
            "La suma de: 1.0\n"
          ]
        }
      ]
    }
  ]
}