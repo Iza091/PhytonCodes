{
  "nbformat": 4,
  "nbformat_minor": 0,
  "metadata": {
    "colab": {
      "name": "CodigosPy.ipynb",
      "provenance": [],
      "authorship_tag": "ABX9TyOhCe9knTcc3AQz481pKztU",
      "include_colab_link": true
    },
    "kernelspec": {
      "name": "python3",
      "display_name": "Python 3"
    },
    "language_info": {
      "name": "python"
    }
  },
  "cells": [
    {
      "cell_type": "markdown",
      "metadata": {
        "id": "view-in-github",
        "colab_type": "text"
      },
      "source": [
        "<a href=\"https://colab.research.google.com/github/Iza091/PhytonCodes/blob/main/CodigosPy.ipynb\" target=\"_parent\"><img src=\"https://colab.research.google.com/assets/colab-badge.svg\" alt=\"Open In Colab\"/></a>"
      ]
    },
    {
      "cell_type": "code",
      "execution_count": null,
      "metadata": {
        "colab": {
          "base_uri": "https://localhost:8080/"
        },
        "id": "L_A0aOh_s_R6",
        "outputId": "4f3af417-20fa-4544-8ad2-6d85480d20b7"
      },
      "outputs": [
        {
          "output_type": "stream",
          "name": "stdout",
          "text": [
            "Hola Mundo \n",
            "Mi nombre es Iza\n",
            "Mi edad es: 23\n"
          ]
        }
      ],
      "source": [
        "print(\"Hola Mundo \")\n",
        "nombre=\"Iza\"\n",
        "print(\"Mi nombre es\",nombre)\n",
        "edad= 23\n",
        "print(\"Mi edad es:\",edad)\n"
      ]
    },
    {
      "cell_type": "code",
      "source": [
        "nombre=\"Isaias Ortiz\"\n",
        "print(\"Tu nombre es:\",nombre,\"la longitud de tu nombre:\",len(nombre),\"; las iniciales:\",nombre[0],nombre[7])"
      ],
      "metadata": {
        "colab": {
          "base_uri": "https://localhost:8080/"
        },
        "id": "gbLMEGDStcRd",
        "outputId": "1e9dd4d0-d80e-4c53-da28-01031d2ef632"
      },
      "execution_count": null,
      "outputs": [
        {
          "output_type": "stream",
          "name": "stdout",
          "text": [
            "Tu nombre es: Isaias Ortiz la longitud de tu nombre: 12 ; las iniciales: I O\n"
          ]
        }
      ]
    },
    {
      "cell_type": "code",
      "source": [
        "num1=3\n",
        "num2=6.9\n",
        "resp= num1 + num2\n",
        "print(\"La suma de:\",num1,\"+\",num2,\"es igual a:\",resp,)"
      ],
      "metadata": {
        "colab": {
          "base_uri": "https://localhost:8080/"
        },
        "id": "PpPUvlk1t-Pq",
        "outputId": "2bf491a4-1ff7-4ce3-fd09-2eb133e16b46"
      },
      "execution_count": null,
      "outputs": [
        {
          "output_type": "stream",
          "name": "stdout",
          "text": [
            "la suma de: 3 + 6.9 es igual a: 9.9\n"
          ]
        }
      ]
    },
    {
      "cell_type": "code",
      "source": [
        "num1=9\n",
        "num2=4.5\n",
        "resp=num1-num2\n",
        "print(\"La resta de:\",num1,\"-\",num2,\"es igual a:\",resp,)"
      ],
      "metadata": {
        "colab": {
          "base_uri": "https://localhost:8080/"
        },
        "id": "JKhA7mxUuIzs",
        "outputId": "154328b0-40f1-4a0a-d75f-31550cd2a89b"
      },
      "execution_count": null,
      "outputs": [
        {
          "output_type": "stream",
          "name": "stdout",
          "text": [
            "la resta de: 9 - 4.5 es igual a: 4.5\n"
          ]
        }
      ]
    },
    {
      "cell_type": "code",
      "source": [
        "num1=float(input(\"Ingrese un número entero: \"))\n",
        "num2=float(input(\"Ingrese otro número decimal: \"))\n",
        "resp=num1+num2\n",
        "print(\"Total:\",resp)"
      ],
      "metadata": {
        "colab": {
          "base_uri": "https://localhost:8080/"
        },
        "id": "HilG8IsuuTgE",
        "outputId": "c3d54b52-6ce4-4319-b7e7-2287dce581d1"
      },
      "execution_count": null,
      "outputs": [
        {
          "output_type": "stream",
          "name": "stdout",
          "text": [
            "Ingrese un número entero: 4\n",
            "Ingrese otro número decimal: 10.5\n",
            "Total: 14.5\n"
          ]
        }
      ]
    },
    {
      "cell_type": "code",
      "source": [
        "nombre=input(\"¿Cómo te llamas?: \")\n",
        "print(nombre,  type(nombre), len(nombre))\n",
        "\n",
        "print(nombre[0])"
      ],
      "metadata": {
        "colab": {
          "base_uri": "https://localhost:8080/"
        },
        "id": "noDURNSFuzxd",
        "outputId": "b96bcc55-3863-4dc8-b5fc-3f232a830930"
      },
      "execution_count": null,
      "outputs": [
        {
          "output_type": "stream",
          "name": "stdout",
          "text": [
            "¿Cómo te llamas?: Iza\n",
            "Iza <class 'str'> 3\n",
            "I\n"
          ]
        }
      ]
    }
  ]
}