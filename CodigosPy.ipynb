{
  "nbformat": 4,
  "nbformat_minor": 0,
  "metadata": {
    "colab": {
      "name": "CodigosPy.ipynb",
      "provenance": [],
      "collapsed_sections": [],
      "authorship_tag": "ABX9TyN2z4e5C25ihLSsP4qkB8dq",
      "include_colab_link": true
    },
    "kernelspec": {
      "name": "python3",
      "display_name": "Python 3"
    },
    "language_info": {
      "name": "python"
    }
  },
  "cells": [
    {
      "cell_type": "markdown",
      "metadata": {
        "id": "view-in-github",
        "colab_type": "text"
      },
      "source": [
        "<a href=\"https://colab.research.google.com/github/Iza091/PhytonCodes/blob/main/CodigosPy.ipynb\" target=\"_parent\"><img src=\"https://colab.research.google.com/assets/colab-badge.svg\" alt=\"Open In Colab\"/></a>"
      ]
    },
    {
      "cell_type": "code",
      "execution_count": null,
      "metadata": {
        "colab": {
          "base_uri": "https://localhost:8080/"
        },
        "id": "L_A0aOh_s_R6",
        "outputId": "0e649c76-ff5f-4c4e-ddd8-64b3cc6c334e"
      },
      "outputs": [
        {
          "output_type": "stream",
          "name": "stdout",
          "text": [
            "Hola Mundo \n",
            "Mi nombre es Iza\n",
            "Mi edad es: 23\n"
          ]
        }
      ],
      "source": [
        "print(\"Hola Mundo \")\n",
        "nombre=\"Iza\"\n",
        "print(\"Mi nombre es\",nombre)\n",
        "edad= 23\n",
        "print(\"Mi edad es:\",edad)\n"
      ]
    },
    {
      "cell_type": "code",
      "source": [
        "nombre=\"Isaias Ortiz\"\n",
        "print(\"Tu nombre es:\",nombre,\"la longitud de tu nombre:\",len(nombre),\"; las iniciales:\",nombre[0],nombre[7])"
      ],
      "metadata": {
        "colab": {
          "base_uri": "https://localhost:8080/"
        },
        "id": "gbLMEGDStcRd",
        "outputId": "7549881c-e9be-4357-ffee-4d7766637b47"
      },
      "execution_count": null,
      "outputs": [
        {
          "output_type": "stream",
          "name": "stdout",
          "text": [
            "Tu nombre es: Isaias Ortiz la longitud de tu nombre: 12 ; las iniciales: I O\n"
          ]
        }
      ]
    },
    {
      "cell_type": "code",
      "source": [
        "num1=3\n",
        "num2=6.9\n",
        "resp= num1 + num2\n",
        "print(\"La suma de:\",num1,\"+\",num2,\"es igual a:\",resp,)"
      ],
      "metadata": {
        "colab": {
          "base_uri": "https://localhost:8080/"
        },
        "id": "PpPUvlk1t-Pq",
        "outputId": "7c86bc9d-967f-4b63-a6b4-70d41ffe093e"
      },
      "execution_count": null,
      "outputs": [
        {
          "output_type": "stream",
          "name": "stdout",
          "text": [
            "La suma de: 3 + 6.9 es igual a: 9.9\n"
          ]
        }
      ]
    },
    {
      "cell_type": "code",
      "source": [
        "num1=9\n",
        "num2=4.5\n",
        "resp=num1-num2\n",
        "print(\"La resta de:\",num1,\"-\",num2,\"es igual a:\",resp,)"
      ],
      "metadata": {
        "colab": {
          "base_uri": "https://localhost:8080/"
        },
        "id": "JKhA7mxUuIzs",
        "outputId": "4f17d936-7b55-4915-ecb6-9bb189a7e85f"
      },
      "execution_count": null,
      "outputs": [
        {
          "output_type": "stream",
          "name": "stdout",
          "text": [
            "La resta de: 9 - 4.5 es igual a: 4.5\n"
          ]
        }
      ]
    },
    {
      "cell_type": "code",
      "source": [
        "num1=float(input(\"Ingrese un número entero: \"))\n",
        "num2=float(input(\"Ingrese otro número decimal: \"))\n",
        "resp=num1+num2\n",
        "print(\"Total:\",resp)"
      ],
      "metadata": {
        "colab": {
          "base_uri": "https://localhost:8080/"
        },
        "id": "HilG8IsuuTgE",
        "outputId": "a181d817-ad73-45d2-f075-caf1ac9c9a26"
      },
      "execution_count": null,
      "outputs": [
        {
          "output_type": "stream",
          "name": "stdout",
          "text": [
            "Ingrese un número entero: 45\n",
            "Ingrese otro número decimal: 2.3\n",
            "Total: 47.3\n"
          ]
        }
      ]
    },
    {
      "cell_type": "code",
      "source": [
        "nombre=input(\"¿Cómo te llamas?: \")\n",
        "print(nombre,  type(nombre), len(nombre))\n",
        "\n",
        "print(nombre[0])"
      ],
      "metadata": {
        "colab": {
          "base_uri": "https://localhost:8080/"
        },
        "id": "noDURNSFuzxd",
        "outputId": "b96bcc55-3863-4dc8-b5fc-3f232a830930"
      },
      "execution_count": null,
      "outputs": [
        {
          "output_type": "stream",
          "name": "stdout",
          "text": [
            "¿Cómo te llamas?: Iza\n",
            "Iza <class 'str'> 3\n",
            "I\n"
          ]
        }
      ]
    },
    {
      "cell_type": "code",
      "source": [
        "def suma(num1, num2):\n",
        "  return num1 + num2\n",
        "num1= float(input(\"digite un número: \"))\n",
        "num2= float(input(\"digita otro número: \"))\n",
        "\n",
        "print(\"La suma de:\",suma(num1, num2))"
      ],
      "metadata": {
        "colab": {
          "base_uri": "https://localhost:8080/"
        },
        "id": "7LRKsK2RZ0qx",
        "outputId": "0aaf8bc3-fc15-40c7-b6a7-5e2ae1871ea3"
      },
      "execution_count": null,
      "outputs": [
        {
          "output_type": "stream",
          "name": "stdout",
          "text": [
            "digite un número: 0.4\n",
            "digita otro número: 0.6\n",
            "La suma de: 1.0\n"
          ]
        }
      ]
    },
    {
      "cell_type": "code",
      "source": [
        "num1=5\n",
        "num2=7\n",
        "def suma(num1,num2):\n",
        "  return num1 + num2\n",
        "print(\"la suma de 5 + 7 =\",suma(num1,num2))"
      ],
      "metadata": {
        "colab": {
          "base_uri": "https://localhost:8080/"
        },
        "id": "gKrhlxK5dpjk",
        "outputId": "3febdb1b-25b9-481f-e512-19446d275e14"
      },
      "execution_count": null,
      "outputs": [
        {
          "output_type": "stream",
          "name": "stdout",
          "text": [
            "12\n",
            "la suma de 5 + 7 = 12\n"
          ]
        }
      ]
    },
    {
      "cell_type": "code",
      "source": [
        "def clase():\n",
        "  print ('BLΛƆKPIИK IS THE REVOLUTION')\n",
        "clase()"
      ],
      "metadata": {
        "colab": {
          "base_uri": "https://localhost:8080/"
        },
        "id": "IoXGpRyVem_Q",
        "outputId": "cc2a930f-b248-49a2-d38f-dddcae7e2941"
      },
      "execution_count": null,
      "outputs": [
        {
          "output_type": "stream",
          "name": "stdout",
          "text": [
            "BLΛƆKPIИK IS THE REVOLUTION\n"
          ]
        }
      ]
    },
    {
      "cell_type": "code",
      "source": [
        "c= 38"
      ],
      "metadata": {
        "id": "_7sBkGhMeNUk"
      },
      "execution_count": null,
      "outputs": []
    },
    {
      "cell_type": "code",
      "source": [
        "def convertirCaF(c):\n",
        "  return c*9/5 + 32"
      ],
      "metadata": {
        "id": "DIrLEeITf9PQ"
      },
      "execution_count": null,
      "outputs": []
    },
    {
      "cell_type": "code",
      "source": [
        "print(\"Celsius a F: \", convertirCaF(c)) "
      ],
      "metadata": {
        "colab": {
          "base_uri": "https://localhost:8080/"
        },
        "id": "49xswDM8gAv4",
        "outputId": "28ac8203-f651-4eaf-94a6-738b96314ac6"
      },
      "execution_count": null,
      "outputs": [
        {
          "output_type": "stream",
          "name": "stdout",
          "text": [
            "Celsius a F:  100.4\n"
          ]
        }
      ]
    },
    {
      "cell_type": "code",
      "source": [
        "gradosCiudades=[27,30, 32, 35, 40, 45]"
      ],
      "metadata": {
        "id": "hrcfydyhgG1o"
      },
      "execution_count": null,
      "outputs": []
    },
    {
      "cell_type": "code",
      "source": [
        "print(\"C°: \", gradosCiudades, \"C°: \",list(map(convertirCaF, gradosCiudades)))"
      ],
      "metadata": {
        "colab": {
          "base_uri": "https://localhost:8080/"
        },
        "id": "kQrr_JCwgJNf",
        "outputId": "e5440f12-e127-4072-fab7-8ffdce8a5b0a"
      },
      "execution_count": null,
      "outputs": [
        {
          "output_type": "stream",
          "name": "stdout",
          "text": [
            "C°:  [27, 30, 32, 35, 40, 45] C°:  [80.6, 86.0, 89.6, 95.0, 104.0, 113.0]\n"
          ]
        }
      ]
    },
    {
      "cell_type": "code",
      "source": [
        "def convertirFaC(f):\n",
        "  return (f-32) * 5/9"
      ],
      "metadata": {
        "id": "uaH5gFt7gLDZ"
      },
      "execution_count": null,
      "outputs": []
    },
    {
      "cell_type": "code",
      "source": [
        "gradosCiudades2= [80.6, 86.0, 89.6, 95.0, 104.0, 113.0]"
      ],
      "metadata": {
        "id": "cev4wVMuhJzv"
      },
      "execution_count": null,
      "outputs": []
    },
    {
      "cell_type": "code",
      "source": [
        "print(\"F°:\", gradosCiudades2, \"C°: \",list(map(convertirFaC, gradosCiudades2)))\n"
      ],
      "metadata": {
        "colab": {
          "base_uri": "https://localhost:8080/"
        },
        "id": "niZhn4-FhMI0",
        "outputId": "786c7ede-49fa-4bac-a593-b5d903d7badf"
      },
      "execution_count": null,
      "outputs": [
        {
          "output_type": "stream",
          "name": "stdout",
          "text": [
            "F°: [80.6, 86.0, 89.6, 95.0, 104.0, 113.0] C°:  [26.999999999999996, 30.0, 32.0, 35.0, 40.0, 45.0]\n"
          ]
        }
      ]
    },
    {
      "cell_type": "code",
      "source": [
        "conversor= lambda f:(f-32)*5/9"
      ],
      "metadata": {
        "id": "EMaLAMFChXFc"
      },
      "execution_count": null,
      "outputs": []
    },
    {
      "cell_type": "code",
      "source": [
        "print(\"F°: : \",gradosCiudades2, \"C°: \",list(map(conversor, gradosCiudades2)))"
      ],
      "metadata": {
        "colab": {
          "base_uri": "https://localhost:8080/"
        },
        "id": "PT3fUlBCiFKn",
        "outputId": "48895503-6c57-49f7-e946-53bb1c15c793"
      },
      "execution_count": null,
      "outputs": [
        {
          "output_type": "stream",
          "name": "stdout",
          "text": [
            "F°: :  [80.6, 86.0, 89.6, 95.0, 104.0, 113.0] C°:  [26.999999999999996, 30.0, 32.0, 35.0, 40.0, 45.0]\n"
          ]
        }
      ]
    },
    {
      "cell_type": "markdown",
      "source": [
        "De Celcius a Kelvin"
      ],
      "metadata": {
        "id": "Sq_KhovdvrZD"
      }
    },
    {
      "cell_type": "code",
      "source": [
        "def convertirCelKC(c):\n",
        "  return (c+273.15)"
      ],
      "metadata": {
        "id": "ZTQWd6wQueLk"
      },
      "execution_count": null,
      "outputs": []
    },
    {
      "cell_type": "code",
      "source": [
        "gradosCiudades3= [26,36, 38, 45, 25, 48]"
      ],
      "metadata": {
        "id": "RallOBJtuyCP"
      },
      "execution_count": null,
      "outputs": []
    },
    {
      "cell_type": "code",
      "source": [
        "conversor= lambda c:(c+273.15)"
      ],
      "metadata": {
        "id": "JUWIp4noux74"
      },
      "execution_count": null,
      "outputs": []
    },
    {
      "cell_type": "code",
      "source": [
        "print(\"C°: : \",gradosCiudades3, \"K°: \",list(map(conversor, gradosCiudades3)))"
      ],
      "metadata": {
        "colab": {
          "base_uri": "https://localhost:8080/"
        },
        "id": "1VlM59eRvUlX",
        "outputId": "fdce9991-411f-48fa-cc19-9da7d2847ffe"
      },
      "execution_count": null,
      "outputs": [
        {
          "output_type": "stream",
          "name": "stdout",
          "text": [
            "C°: :  [26, 36, 38, 45, 25, 48] K°:  [299.15, 309.15, 311.15, 318.15, 298.15, 321.15]\n"
          ]
        }
      ]
    },
    {
      "cell_type": "markdown",
      "source": [
        "De Kelvin a Celcius"
      ],
      "metadata": {
        "id": "zGUeFk-lvusB"
      }
    },
    {
      "cell_type": "code",
      "source": [
        "def convertirKelC(k):\n",
        "  return (k-273.15)"
      ],
      "metadata": {
        "id": "qs3ftkv_vx_h"
      },
      "execution_count": null,
      "outputs": []
    },
    {
      "cell_type": "code",
      "source": [
        "gradosCiudades4= [1,30, 55, 85, 45, 74]"
      ],
      "metadata": {
        "id": "0mAG4dF0wGSB"
      },
      "execution_count": null,
      "outputs": []
    },
    {
      "cell_type": "code",
      "source": [
        "conversor= lambda k:(k-273.15)"
      ],
      "metadata": {
        "id": "KmUVUA0GwQw5"
      },
      "execution_count": null,
      "outputs": []
    },
    {
      "cell_type": "code",
      "source": [
        "print(\"K°: : \",gradosCiudades4, \"C°: \",list(map(conversor, gradosCiudades4)))"
      ],
      "metadata": {
        "colab": {
          "base_uri": "https://localhost:8080/"
        },
        "id": "bGVy7YtnwTSt",
        "outputId": "4f4a8fe7-bab5-4ea5-b5a4-c06e2345c2f7"
      },
      "execution_count": null,
      "outputs": [
        {
          "output_type": "stream",
          "name": "stdout",
          "text": [
            "K°: :  [1, 30, 55, 85, 45, 74] C°:  [-272.15, -243.14999999999998, -218.14999999999998, -188.14999999999998, -228.14999999999998, -199.14999999999998]\n"
          ]
        }
      ]
    }
  ]
}