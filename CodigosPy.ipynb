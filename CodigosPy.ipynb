{
  "nbformat": 4,
  "nbformat_minor": 0,
  "metadata": {
    "colab": {
      "name": "CodigosPy.ipynb",
      "provenance": [],
      "collapsed_sections": [],
      "authorship_tag": "ABX9TyMb0vbns8l7LVopXA0h4qNS",
      "include_colab_link": true
    },
    "kernelspec": {
      "name": "python3",
      "display_name": "Python 3"
    },
    "language_info": {
      "name": "python"
    }
  },
  "cells": [
    {
      "cell_type": "markdown",
      "metadata": {
        "id": "view-in-github",
        "colab_type": "text"
      },
      "source": [
        "<a href=\"https://colab.research.google.com/github/Iza091/PhytonCodes/blob/main/CodigosPy.ipynb\" target=\"_parent\"><img src=\"https://colab.research.google.com/assets/colab-badge.svg\" alt=\"Open In Colab\"/></a>"
      ]
    },
    {
      "cell_type": "code",
      "execution_count": null,
      "metadata": {
        "colab": {
          "base_uri": "https://localhost:8080/"
        },
        "id": "L_A0aOh_s_R6",
        "outputId": "0e649c76-ff5f-4c4e-ddd8-64b3cc6c334e"
      },
      "outputs": [
        {
          "output_type": "stream",
          "name": "stdout",
          "text": [
            "Hola Mundo \n",
            "Mi nombre es Iza\n",
            "Mi edad es: 23\n"
          ]
        }
      ],
      "source": [
        "print(\"Hola Mundo \")\n",
        "nombre=\"Iza\"\n",
        "print(\"Mi nombre es\",nombre)\n",
        "edad= 23\n",
        "print(\"Mi edad es:\",edad)"
      ]
    },
    {
      "cell_type": "code",
      "source": [
        "nombre=\"Isaias Ortiz\"\n",
        "print(\"Tu nombre es:\",nombre,\"la longitud de tu nombre:\",len(nombre),\"; las iniciales:\",nombre[0],nombre[7])"
      ],
      "metadata": {
        "colab": {
          "base_uri": "https://localhost:8080/"
        },
        "id": "gbLMEGDStcRd",
        "outputId": "7549881c-e9be-4357-ffee-4d7766637b47"
      },
      "execution_count": null,
      "outputs": [
        {
          "output_type": "stream",
          "name": "stdout",
          "text": [
            "Tu nombre es: Isaias Ortiz la longitud de tu nombre: 12 ; las iniciales: I O\n"
          ]
        }
      ]
    },
    {
      "cell_type": "code",
      "source": [
        "num1=3\n",
        "num2=6.9\n",
        "resp= num1 + num2\n",
        "print(\"La suma de:\",num1,\"+\",num2,\"es igual a:\",resp,)"
      ],
      "metadata": {
        "colab": {
          "base_uri": "https://localhost:8080/"
        },
        "id": "PpPUvlk1t-Pq",
        "outputId": "de9c3de3-075b-464c-aacf-e79e2ec73384"
      },
      "execution_count": null,
      "outputs": [
        {
          "output_type": "stream",
          "name": "stdout",
          "text": [
            "La suma de: 3 + 6.9 es igual a: 9.9\n"
          ]
        }
      ]
    },
    {
      "cell_type": "code",
      "source": [
        "num1=9\n",
        "num2=4.5\n",
        "resp=num1-num2\n",
        "print(\"La resta de:\",num1,\"-\",num2,\"es igual a:\",resp,)"
      ],
      "metadata": {
        "colab": {
          "base_uri": "https://localhost:8080/"
        },
        "id": "JKhA7mxUuIzs",
        "outputId": "4f17d936-7b55-4915-ecb6-9bb189a7e85f"
      },
      "execution_count": null,
      "outputs": [
        {
          "output_type": "stream",
          "name": "stdout",
          "text": [
            "La resta de: 9 - 4.5 es igual a: 4.5\n"
          ]
        }
      ]
    },
    {
      "cell_type": "code",
      "source": [
        "num1=float(input(\"Ingrese un número entero: \"))\n",
        "num2=float(input(\"Ingrese otro número decimal: \"))\n",
        "resp=num1+num2\n",
        "print(\"Total:\",resp)"
      ],
      "metadata": {
        "colab": {
          "base_uri": "https://localhost:8080/"
        },
        "id": "HilG8IsuuTgE",
        "outputId": "a181d817-ad73-45d2-f075-caf1ac9c9a26"
      },
      "execution_count": null,
      "outputs": [
        {
          "output_type": "stream",
          "name": "stdout",
          "text": [
            "Ingrese un número entero: 45\n",
            "Ingrese otro número decimal: 2.3\n",
            "Total: 47.3\n"
          ]
        }
      ]
    },
    {
      "cell_type": "code",
      "source": [
        "nombre=input(\"¿Cómo te llamas?: \")\n",
        "print(nombre,  type(nombre), len(nombre))\n",
        "\n",
        "print(nombre[0])"
      ],
      "metadata": {
        "colab": {
          "base_uri": "https://localhost:8080/"
        },
        "id": "noDURNSFuzxd",
        "outputId": "b96bcc55-3863-4dc8-b5fc-3f232a830930"
      },
      "execution_count": null,
      "outputs": [
        {
          "output_type": "stream",
          "name": "stdout",
          "text": [
            "¿Cómo te llamas?: Iza\n",
            "Iza <class 'str'> 3\n",
            "I\n"
          ]
        }
      ]
    },
    {
      "cell_type": "code",
      "source": [
        "def suma(num1, num2):\n",
        "  return num1 + num2\n",
        "num1= float(input(\"digite un número: \"))\n",
        "num2= float(input(\"digita otro número: \"))\n",
        "\n",
        "print(\"La suma de:\",suma(num1, num2))"
      ],
      "metadata": {
        "colab": {
          "base_uri": "https://localhost:8080/"
        },
        "id": "7LRKsK2RZ0qx",
        "outputId": "0aaf8bc3-fc15-40c7-b6a7-5e2ae1871ea3"
      },
      "execution_count": null,
      "outputs": [
        {
          "output_type": "stream",
          "name": "stdout",
          "text": [
            "digite un número: 0.4\n",
            "digita otro número: 0.6\n",
            "La suma de: 1.0\n"
          ]
        }
      ]
    },
    {
      "cell_type": "code",
      "source": [
        "num1=5\n",
        "num2=7\n",
        "def suma(num1,num2):\n",
        "  return num1 + num2\n",
        "print(\"la suma de 5 + 7 =\",suma(num1,num2))"
      ],
      "metadata": {
        "colab": {
          "base_uri": "https://localhost:8080/"
        },
        "id": "gKrhlxK5dpjk",
        "outputId": "3febdb1b-25b9-481f-e512-19446d275e14"
      },
      "execution_count": null,
      "outputs": [
        {
          "output_type": "stream",
          "name": "stdout",
          "text": [
            "12\n",
            "la suma de 5 + 7 = 12\n"
          ]
        }
      ]
    },
    {
      "cell_type": "code",
      "source": [
        "def clase():\n",
        "  print ('BLΛƆKPIИK IS THE REVOLUTION')\n",
        "clase()"
      ],
      "metadata": {
        "colab": {
          "base_uri": "https://localhost:8080/"
        },
        "id": "IoXGpRyVem_Q",
        "outputId": "cc2a930f-b248-49a2-d38f-dddcae7e2941"
      },
      "execution_count": null,
      "outputs": [
        {
          "output_type": "stream",
          "name": "stdout",
          "text": [
            "BLΛƆKPIИK IS THE REVOLUTION\n"
          ]
        }
      ]
    },
    {
      "cell_type": "code",
      "source": [
        "c= 38"
      ],
      "metadata": {
        "id": "_7sBkGhMeNUk"
      },
      "execution_count": null,
      "outputs": []
    },
    {
      "cell_type": "code",
      "source": [
        "def convertirCaF(c):\n",
        "  return c*9/5 + 32"
      ],
      "metadata": {
        "id": "DIrLEeITf9PQ"
      },
      "execution_count": null,
      "outputs": []
    },
    {
      "cell_type": "code",
      "source": [
        "print(\"Celsius a F: \", convertirCaF(c)) "
      ],
      "metadata": {
        "colab": {
          "base_uri": "https://localhost:8080/"
        },
        "id": "49xswDM8gAv4",
        "outputId": "28ac8203-f651-4eaf-94a6-738b96314ac6"
      },
      "execution_count": null,
      "outputs": [
        {
          "output_type": "stream",
          "name": "stdout",
          "text": [
            "Celsius a F:  100.4\n"
          ]
        }
      ]
    },
    {
      "cell_type": "code",
      "source": [
        "gradosCiudades=[27,30, 32, 35, 40, 45]"
      ],
      "metadata": {
        "id": "hrcfydyhgG1o"
      },
      "execution_count": null,
      "outputs": []
    },
    {
      "cell_type": "code",
      "source": [
        "print(\"C°: \", gradosCiudades, \"C°: \",list(map(convertirCaF, gradosCiudades)))"
      ],
      "metadata": {
        "colab": {
          "base_uri": "https://localhost:8080/"
        },
        "id": "kQrr_JCwgJNf",
        "outputId": "e5440f12-e127-4072-fab7-8ffdce8a5b0a"
      },
      "execution_count": null,
      "outputs": [
        {
          "output_type": "stream",
          "name": "stdout",
          "text": [
            "C°:  [27, 30, 32, 35, 40, 45] C°:  [80.6, 86.0, 89.6, 95.0, 104.0, 113.0]\n"
          ]
        }
      ]
    },
    {
      "cell_type": "code",
      "source": [
        "def convertirFaC(f):\n",
        "  return (f-32) * 5/9"
      ],
      "metadata": {
        "id": "uaH5gFt7gLDZ"
      },
      "execution_count": null,
      "outputs": []
    },
    {
      "cell_type": "code",
      "source": [
        "gradosCiudades2= [80.6, 86.0, 89.6, 95.0, 104.0, 113.0]"
      ],
      "metadata": {
        "id": "cev4wVMuhJzv"
      },
      "execution_count": null,
      "outputs": []
    },
    {
      "cell_type": "code",
      "source": [
        "print(\"F°:\", gradosCiudades2, \"C°: \",list(map(convertirFaC, gradosCiudades2)))\n"
      ],
      "metadata": {
        "colab": {
          "base_uri": "https://localhost:8080/"
        },
        "id": "niZhn4-FhMI0",
        "outputId": "786c7ede-49fa-4bac-a593-b5d903d7badf"
      },
      "execution_count": null,
      "outputs": [
        {
          "output_type": "stream",
          "name": "stdout",
          "text": [
            "F°: [80.6, 86.0, 89.6, 95.0, 104.0, 113.0] C°:  [26.999999999999996, 30.0, 32.0, 35.0, 40.0, 45.0]\n"
          ]
        }
      ]
    },
    {
      "cell_type": "code",
      "source": [
        "conversor= lambda f:(f-32)*5/9"
      ],
      "metadata": {
        "id": "EMaLAMFChXFc"
      },
      "execution_count": null,
      "outputs": []
    },
    {
      "cell_type": "code",
      "source": [
        "print(\"F°: : \",gradosCiudades2, \"C°: \",list(map(conversor, gradosCiudades2)))"
      ],
      "metadata": {
        "colab": {
          "base_uri": "https://localhost:8080/"
        },
        "id": "PT3fUlBCiFKn",
        "outputId": "48895503-6c57-49f7-e946-53bb1c15c793"
      },
      "execution_count": null,
      "outputs": [
        {
          "output_type": "stream",
          "name": "stdout",
          "text": [
            "F°: :  [80.6, 86.0, 89.6, 95.0, 104.0, 113.0] C°:  [26.999999999999996, 30.0, 32.0, 35.0, 40.0, 45.0]\n"
          ]
        }
      ]
    },
    {
      "cell_type": "markdown",
      "source": [
        "De Celcius a Kelvin"
      ],
      "metadata": {
        "id": "Sq_KhovdvrZD"
      }
    },
    {
      "cell_type": "code",
      "source": [
        "def convertirCelKC(c):\n",
        "  return (c+273.15)"
      ],
      "metadata": {
        "id": "ZTQWd6wQueLk"
      },
      "execution_count": null,
      "outputs": []
    },
    {
      "cell_type": "code",
      "source": [
        "gradosCiudades3= [26,36, 38, 45, 25, 48]"
      ],
      "metadata": {
        "id": "RallOBJtuyCP"
      },
      "execution_count": null,
      "outputs": []
    },
    {
      "cell_type": "code",
      "source": [
        "conversor= lambda c:(c+273.15)"
      ],
      "metadata": {
        "id": "JUWIp4noux74"
      },
      "execution_count": null,
      "outputs": []
    },
    {
      "cell_type": "code",
      "source": [
        "print(\"C°: \",gradosCiudades3, \"K°: \",list(map(conversor, gradosCiudades3)))"
      ],
      "metadata": {
        "colab": {
          "base_uri": "https://localhost:8080/"
        },
        "id": "1VlM59eRvUlX",
        "outputId": "18a3717c-3cd2-4aff-981c-3a917e1049b1"
      },
      "execution_count": null,
      "outputs": [
        {
          "output_type": "stream",
          "name": "stdout",
          "text": [
            "C°:  [26, 36, 38, 45, 25, 48] K°:  [-247.14999999999998, -237.14999999999998, -235.14999999999998, -228.14999999999998, -248.14999999999998, -225.14999999999998]\n"
          ]
        }
      ]
    },
    {
      "cell_type": "markdown",
      "source": [
        "De Kelvin a Celcius"
      ],
      "metadata": {
        "id": "zGUeFk-lvusB"
      }
    },
    {
      "cell_type": "code",
      "source": [
        "def convertirKelC(k):\n",
        "  return (k-273.15)"
      ],
      "metadata": {
        "id": "qs3ftkv_vx_h"
      },
      "execution_count": null,
      "outputs": []
    },
    {
      "cell_type": "code",
      "source": [
        "gradosCiudades4= [1,30, 55, 85, 45, 74]"
      ],
      "metadata": {
        "id": "0mAG4dF0wGSB"
      },
      "execution_count": null,
      "outputs": []
    },
    {
      "cell_type": "code",
      "source": [
        "conversor= lambda k:(k-273.15)"
      ],
      "metadata": {
        "id": "KmUVUA0GwQw5"
      },
      "execution_count": null,
      "outputs": []
    },
    {
      "cell_type": "code",
      "source": [
        "print(\"K°: \",gradosCiudades4, \"C°: \",list(map(conversor, gradosCiudades4)))"
      ],
      "metadata": {
        "colab": {
          "base_uri": "https://localhost:8080/"
        },
        "id": "bGVy7YtnwTSt",
        "outputId": "3a6fa7a5-59e6-45e3-ee7f-4b559c1e1cf3"
      },
      "execution_count": null,
      "outputs": [
        {
          "output_type": "stream",
          "name": "stdout",
          "text": [
            "K°:  [1, 30, 55, 85, 45, 74] C°:  [-272.15, -243.14999999999998, -218.14999999999998, -188.14999999999998, -228.14999999999998, -199.14999999999998]\n"
          ]
        }
      ]
    },
    {
      "cell_type": "markdown",
      "source": [
        "Nota final del ciclo"
      ],
      "metadata": {
        "id": "w7Li6NloxudN"
      }
    },
    {
      "cell_type": "code",
      "source": [
        "print(\"Programación Computacional 3\")"
      ],
      "metadata": {
        "colab": {
          "base_uri": "https://localhost:8080/"
        },
        "id": "JvNLChJlxv7N",
        "outputId": "f90b2da8-f037-4e6a-823d-3e063310ad8e"
      },
      "execution_count": null,
      "outputs": [
        {
          "output_type": "stream",
          "name": "stdout",
          "text": [
            "Programación Computacional 3\n"
          ]
        }
      ]
    },
    {
      "cell_type": "code",
      "source": [
        "def computo1(c1):\n",
        " return(c1*0.3+c1*0.3+c1*0.4)"
      ],
      "metadata": {
        "id": "i2FInGFdyLp8"
      },
      "execution_count": null,
      "outputs": []
    },
    {
      "cell_type": "code",
      "source": [
        "NotasC1= [10,5,3]"
      ],
      "metadata": {
        "id": "qL4vrlvh2jmr"
      },
      "execution_count": null,
      "outputs": []
    },
    {
      "cell_type": "code",
      "source": [
        "conversor= lambda c1:(c1*0.3+c1*0.3+c1*0.4)"
      ],
      "metadata": {
        "id": "OgSuZyCM2vjB"
      },
      "execution_count": null,
      "outputs": []
    },
    {
      "cell_type": "code",
      "source": [
        "print(\"Notas computo 1: \",NotasC1, \"Total\",list(map(conversor, NotasC1)))"
      ],
      "metadata": {
        "colab": {
          "base_uri": "https://localhost:8080/"
        },
        "id": "OnOgMAD920Es",
        "outputId": "c30da948-50fa-4acf-e117-2e02fe0b52cd"
      },
      "execution_count": null,
      "outputs": [
        {
          "output_type": "stream",
          "name": "stdout",
          "text": [
            "Notas computo 1:  [10, 5, 3] Total [10.0, 5.0, 3.0]\n"
          ]
        }
      ]
    },
    {
      "cell_type": "code",
      "source": [
        "def computo2(c2):\n",
        " return(c2*0.3+c2*0.3+c2*0.4)"
      ],
      "metadata": {
        "id": "4OrOU6Xkz0Ec"
      },
      "execution_count": null,
      "outputs": []
    },
    {
      "cell_type": "code",
      "source": [
        "NotasC2= [10,9,7]"
      ],
      "metadata": {
        "id": "ZTsjNqos3TVD"
      },
      "execution_count": null,
      "outputs": []
    },
    {
      "cell_type": "code",
      "source": [
        "conversor= lambda c2:(c2*0.3+c2*0.3+c2*0.4)"
      ],
      "metadata": {
        "id": "hskYokh33f6t"
      },
      "execution_count": null,
      "outputs": []
    },
    {
      "cell_type": "code",
      "source": [
        "print(\"Notas computo 2: \",NotasC2, \"Total\",list(map(conversor, NotasC2)))"
      ],
      "metadata": {
        "colab": {
          "base_uri": "https://localhost:8080/"
        },
        "id": "TQgZ9kfn3l0d",
        "outputId": "c495177b-50bd-487d-a975-3a83e6705d30"
      },
      "execution_count": null,
      "outputs": [
        {
          "output_type": "stream",
          "name": "stdout",
          "text": [
            "Notas computo 2:  [10, 9, 7] Total [10.0, 9.0, 7.0]\n"
          ]
        }
      ]
    },
    {
      "cell_type": "code",
      "source": [
        "def computo3(c3):\n",
        " return(c3*0.3+c3*0.3+c3*0.4)"
      ],
      "metadata": {
        "id": "hd_xWrhf0GqS"
      },
      "execution_count": null,
      "outputs": []
    },
    {
      "cell_type": "code",
      "source": [
        "NotasC3= [10,10,9]"
      ],
      "metadata": {
        "id": "3szbnY0a3yRc"
      },
      "execution_count": null,
      "outputs": []
    },
    {
      "cell_type": "code",
      "source": [
        "conversor= lambda c3:(c3*0.3+c3*0.3+c3*0.4)"
      ],
      "metadata": {
        "id": "CyGhpHG733XE"
      },
      "execution_count": null,
      "outputs": []
    },
    {
      "cell_type": "code",
      "source": [
        "print(\"Notas computo 3: \",NotasC3, \"Total\",list(map(conversor, NotasC3)))"
      ],
      "metadata": {
        "colab": {
          "base_uri": "https://localhost:8080/"
        },
        "id": "IpSkskmt39XV",
        "outputId": "35878e5a-868b-4c07-eaa7-336e587d8c95"
      },
      "execution_count": null,
      "outputs": [
        {
          "output_type": "stream",
          "name": "stdout",
          "text": [
            "Notas computo 3:  [10, 10, 9] Total [10.0, 10.0, 9.0]\n"
          ]
        }
      ]
    },
    {
      "cell_type": "code",
      "source": [
        "def notafinal(ct):\n",
        "  return lambda ct:ct /3"
      ],
      "metadata": {
        "id": "hhJyzwio4W9R"
      },
      "execution_count": null,
      "outputs": []
    },
    {
      "cell_type": "code",
      "source": [],
      "metadata": {
        "id": "ZTOTu-x68EYB"
      },
      "execution_count": null,
      "outputs": []
    },
    {
      "cell_type": "code",
      "source": [
        "conversor= lambda ct:ct"
      ],
      "metadata": {
        "id": "v3dU5AEW4BLQ"
      },
      "execution_count": null,
      "outputs": []
    },
    {
      "cell_type": "code",
      "source": [
        "valores = [\n",
        "           [],\n",
        "           [0,1, 0.98, 24.57, 35.89, 7.73, 8.74, 663.37,19.98,1314.06,1.29], #Monedas\n",
        "           [0,1,100,1000,1e+6,1e+9,0.000621371,1.09361,3.28084,39.3701,0.000539957,0.001],  #Longitud\n",
        "           [0,1,0.001,1000,1e+6,9.8421e-7,1.1023e-6,0.00220462,0.035274,1e-6,0.000157473], #Masa\n",
        "]\n",
        "etiquetas = [\n",
        "           [],\n",
        "           [\"1. Dolar\", \"2. Euro\", \"3. Lempira\",\"4. Cordobas\", \"5. Quetzalez\", \"6. Colon SV\", \"7. Colon CR\",\"8.MXN\",\"9.Won Surcoreano\",\"10.Dolar Canadiense\"],\n",
        "           [\"1. Metro\",\"2. CM\",\"3. Milimetro\", \"4. Micrómetro\",\"5. Nanómetro\", \"5. Milla\",\"6. Yarda\",\"7. Pie\",\"8. Pulgada\",\"9.Milla Náutica\",\"10.Kilometro\"],\n",
        "           [\"1. Gramo\",\"2. Kilogramo\",\"3. Miligramo\", \"4. Microgramo\", \"5. Tonelada Larga\",\"6. Tonelada corta\",\"7. Libra\",\"8.Onza\",\"9.Tonelada\",\"10. Stone\"],\n",
        "]\n",
        "def convertir(conversor, de, a, cantidad):\n",
        "  return valores[conversor][a]/valores[conversor][de] * cantidad\n",
        "\n",
        "print(\"*** MENU ***\")\n",
        "print(\"* 1. Monedas\")\n",
        "print(\"* 2. Longitud\")\n",
        "print(\"* 3. Masa\")\n",
        "conversor = int(input(\"Conversor: \"))\n",
        "\n",
        "print( etiquetas[conversor] )\n",
        "\n",
        "de = int(input(\"DE: \"))\n",
        "a = int(input(\"A: \"))\n",
        "cantidad = float(input(\"Cant: \"))\n",
        "\n",
        "print(\"Respuesta: \", convertir(conversor, de, a, cantidad) )"
      ],
      "metadata": {
        "id": "msgRHL_A_lpY",
        "colab": {
          "base_uri": "https://localhost:8080/"
        },
        "outputId": "ed0ecac0-2ea6-4bff-9e96-8a482cfa6b0f"
      },
      "execution_count": null,
      "outputs": [
        {
          "output_type": "stream",
          "name": "stdout",
          "text": [
            "*** MENU ***\n",
            "* 1. Monedas\n",
            "* 2. Longitud\n",
            "* 3. Masa\n",
            "Conversor: 2\n",
            "['1. Metro', '2. CM', '3. Milimetro', '4. Micrómetro', '5. Nanómetro', '5. Milla', '6. Yarda', '7. Pie', '8. Pulgada', '9.Milla Náutica', '10.Kilometro']\n",
            "DE: 1\n",
            "A: 2\n",
            "Cant: 100\n",
            "Respuesta:  10000.0\n"
          ]
        }
      ]
    },
    {
      "cell_type": "code",
      "source": [
        "#Calcular sobresueldo\n",
        "#iss (3%), afp (6,25%), isr(tabla), imprimir sueldo neto y total reducciones.\n",
        "sueldo = float(input('Sueldo:\\n'))\n",
        "isss = sueldo * 0.03\n",
        "afp = sueldo * 0.0625\n",
        "sueldoneto = sueldo - isss - afp\n",
        "\n",
        "tablaIsr = [\n",
        "            [0.01, 472.0, 0, 0],\n",
        "            [472.01, 895.24, 0.01, 17, 67],\n",
        "            [895.25, 2038.10, 0.2, 60],\n",
        "            [2038.11, 999999, 0.3, 288.57]\n",
        "]\n",
        "\n",
        "print(sueldo, 'Deducciones: ', (isss + afp), 'Sueldo Neto: ', sueldoneto)"
      ],
      "metadata": {
        "id": "d6qoX35x4Sj1",
        "colab": {
          "base_uri": "https://localhost:8080/"
        },
        "outputId": "67ace683-c13f-4ef5-c887-ab3b64490623"
      },
      "execution_count": null,
      "outputs": [
        {
          "output_type": "stream",
          "name": "stdout",
          "text": [
            "Sueldo:\n",
            "150\n",
            "150.0 Deducciones:  13.875 Sueldo Neto:  136.125\n"
          ]
        }
      ]
    },
    {
      "cell_type": "markdown",
      "source": [],
      "metadata": {
        "id": "-tSZwtZ25l3n"
      }
    },
    {
      "cell_type": "markdown",
      "source": [
        "Notas"
      ],
      "metadata": {
        "id": "g4TWAlIDHs9t"
      }
    },
    {
      "cell_type": "code",
      "source": [
        "#Notas\n",
        "notas = [6,8,10] #Listas, son mutables, es decir, podemos cambiar sus valores y se declaran y usan con corchetes\n",
        "print(\"Notas Originales: \", notas)\n",
        "\n",
        "notas[0] = 9\n",
        "print(\"Notas: \", notas)"
      ],
      "metadata": {
        "colab": {
          "base_uri": "https://localhost:8080/"
        },
        "id": "EiS7gWDeHr2H",
        "outputId": "ff9fbd3f-ca9b-49c2-8d2c-0b4ce1e4eecb"
      },
      "execution_count": 1,
      "outputs": [
        {
          "output_type": "stream",
          "name": "stdout",
          "text": [
            "Notas Originales:  [6, 8, 10]\n",
            "Notas:  [9, 8, 10]\n"
          ]
        }
      ]
    },
    {
      "cell_type": "code",
      "source": [
        "notasProgra = [\n",
        "    [9,8,10], #C1\n",
        "    [10,6,9], #C2\n",
        "    [10,9,10] #C3\n",
        "]\n",
        "print(notasProgra)"
      ],
      "metadata": {
        "colab": {
          "base_uri": "https://localhost:8080/"
        },
        "id": "IyXkrZDuHzQM",
        "outputId": "d125d59f-065f-44d1-d1fa-0ec614f58969"
      },
      "execution_count": 2,
      "outputs": [
        {
          "output_type": "stream",
          "name": "stdout",
          "text": [
            "[[9, 8, 10], [10, 6, 9], [10, 9, 10]]\n"
          ]
        }
      ]
    },
    {
      "cell_type": "code",
      "source": [
        "print(\"Lab2 de C1: \", notasProgra[0][1] )"
      ],
      "metadata": {
        "colab": {
          "base_uri": "https://localhost:8080/"
        },
        "id": "K8g4X7kBH1in",
        "outputId": "59b0576c-8af9-4d0b-a256-12579c9c13ef"
      },
      "execution_count": 4,
      "outputs": [
        {
          "output_type": "stream",
          "name": "stdout",
          "text": [
            "Lab2 de C1:  8\n"
          ]
        }
      ]
    },
    {
      "cell_type": "code",
      "source": [
        "notas = [\n",
        "    [ #Progra III\n",
        "      [9,8,[8,9]], #C1\n",
        "      [10,6,9], #C2\n",
        "      [10,9,10] #C3\n",
        "    ], \n",
        "    [ #Estadistica\n",
        "      [5,7,10], #C1\n",
        "      [9,8,9],  #C2\n",
        "      [10,10,10]#C3\n",
        "    ],\n",
        "    [ #BD\n",
        "      [7,8,9],  #C1\n",
        "      [9,8,7],  #C2\n",
        "      [10,9,10],#C3\n",
        "    ], \n",
        "    [ #Ingles\n",
        "      [8,9,10], #C1\n",
        "      [9,10,9], #C2\n",
        "      [10,10,10]#C3\n",
        "    ],\n",
        "    [ #Circuito Digitales\n",
        "      [5,8,7], #C1\n",
        "      [8,7,9], #C2\n",
        "      [9,10,9] #C3\n",
        "    ]\n",
        "]\n",
        "import functools\n",
        "print( \"Lab1 de Estadistica en C1: \", notas[1][0][0], \"Nota de Parcial C1 de Progra III: \",functools.reduce(lambda a,b: a+b, notas[0][0][2])/2 )"
      ],
      "metadata": {
        "colab": {
          "base_uri": "https://localhost:8080/"
        },
        "id": "QgOBVEGIH3X9",
        "outputId": "071a4c02-6b20-40a0-a268-e2096edce0a1"
      },
      "execution_count": 6,
      "outputs": [
        {
          "output_type": "stream",
          "name": "stdout",
          "text": [
            "Lab1 de Estadistica en C1:  5 Nota de Parcial C1 de Progra III:  8.5\n"
          ]
        }
      ]
    },
    {
      "cell_type": "code",
      "source": [
        "#diccionarios (JSON): Se declaran con llaves pero se usan con corchetes\n",
        "misNotas = {\n",
        "    \"Programa III\":{\n",
        "        \"C1\": {\n",
        "          \"Lab1\":9,\"Lab2\":8, \"Parcial\":{\"ParteI\":8, \"ParteII\":9}\n",
        "        },\n",
        "        \"C2\":{\n",
        "          \"Lab1\":10,\"Lab2\":6, \"Parcial\":9\n",
        "        },\n",
        "        \"C3\":{\n",
        "          \"Lab1\":10,\"Lab2\":6, \"Parcial\":9\n",
        "        }\n",
        "    },\"Estadistica\":{\n",
        "        \"C1\": {\n",
        "          \"Lab1\":5,\"Lab2\":7, \"Parcial\":10\n",
        "        },\n",
        "        \"C2\":{\n",
        "          \"Lab1\":9,\"Lab2\":8, \"Parcial\":9\n",
        "        },\n",
        "        \"C3\":{\n",
        "          \"Lab1\":10,\"Lab2\":10, \"Parcial\":10\n",
        "        }\n",
        "    }, \"BD\":{\n",
        "        \"C1\": {\n",
        "          \"Lab1\":7,\"Lab2\":8, \"Parcial\":9\n",
        "        },\n",
        "        \"C2\":{\n",
        "          \"Lab1\":9,\"Lab2\":8, \"Parcial\":7\n",
        "        },\n",
        "        \"C3\":{\n",
        "          \"Lab1\":10,\"Lab2\":9, \"Parcial\":10\n",
        "        }\n",
        "    }, \"Ingles\":{\n",
        "        \"C1\": {\n",
        "          \"Lab1\":8,\"Lab2\":9, \"Parcial\":10\n",
        "        },\n",
        "        \"C2\":{\n",
        "          \"Lab1\":9,\"Lab2\":10, \"Parcial\":9\n",
        "        },\n",
        "        \"C3\":{\n",
        "          \"Lab1\":10,\"Lab2\":10, \"Parcial\":10\n",
        "        }\n",
        "    }, \"Circuitos Digitales\":{\n",
        "        \"C1\": {\n",
        "          \"Lab1\":5,\"Lab2\":8, \"Parcial\":7\n",
        "        },\n",
        "        \"C2\":{\n",
        "          \"Lab1\":8,\"Lab2\":7, \"Parcial\":9\n",
        "        },\n",
        "        \"C3\":{\n",
        "          \"Lab1\":9,\"Lab2\":10, \"Parcial\":9\n",
        "        }\n",
        "    }\n",
        "}\n",
        "print(\"Lab1 en C1 de Estadistica: \", misNotas[\"Estadistica\"][\"C1\"][\"Lab1\"])\n",
        "misNotas[\"Estadistica\"][\"C1\"][\"Lab1\"] = float(input(\"Lab1: \"))\n",
        "print(\"Lab1 en C1 de Estadistica: \", misNotas[\"Estadistica\"][\"C1\"][\"Lab1\"])"
      ],
      "metadata": {
        "colab": {
          "base_uri": "https://localhost:8080/"
        },
        "id": "utotNax-H6kU",
        "outputId": "965565fb-5239-4854-fa10-d75861f9cb4e"
      },
      "execution_count": 8,
      "outputs": [
        {
          "output_type": "stream",
          "name": "stdout",
          "text": [
            "Lab1 en C1 de Estadistica:  5\n",
            "Lab1: 6\n",
            "Lab1 en C1 de Estadistica:  6.0\n"
          ]
        }
      ]
    },
    {
      "cell_type": "markdown",
      "source": [
        "## Edad"
      ],
      "metadata": {
        "id": "bvlMcQ-0IA58"
      }
    },
    {
      "cell_type": "code",
      "source": [
        "edad = int(input(\"Dime tu edad: \"))\n",
        "if(edad<=2):\n",
        "  print(\"Eres un bebe\")\n",
        "elif(edad<12):\n",
        "  print(\"Eres un niño\")\n",
        "elif( edad<18 ):\n",
        "  print(\"Eres un adolescente\")\n",
        "elif( edad<=55 ):\n",
        "  print(\"Eres un adulto joven\")\n",
        "elif(edad<=65):\n",
        "  print(\"Eres un Adulto\")\n",
        "elif(edad<=85):\n",
        "  print(\"Eres un adulto mayor\")\n",
        "elif(edad<=130):\n",
        "  print(\"Larga vidad...\")\n",
        "else:\n",
        "  print(\"Edad incorrecto\")\n",
        "print(\"Termino\")"
      ],
      "metadata": {
        "colab": {
          "base_uri": "https://localhost:8080/"
        },
        "id": "aMakcpj0H-DE",
        "outputId": "b7d85620-fa95-45b2-8820-deb32d9e6de8"
      },
      "execution_count": 9,
      "outputs": [
        {
          "output_type": "stream",
          "name": "stdout",
          "text": [
            "Dime tu edad: 23\n",
            "Eres un adulto joven\n",
            "Termino\n"
          ]
        }
      ]
    },
    {
      "cell_type": "markdown",
      "source": [
        "## Multiplicar"
      ],
      "metadata": {
        "id": "QCbuz9_hIHbG"
      }
    },
    {
      "cell_type": "code",
      "source": [
        "#hacer un programa que genera la tabla de multiplicar de x numero ingreso por el usuario\n",
        "nt = int(input(\"Dime la tabla de multiplicar a generar: \"))\n",
        "i=1\n",
        "while i<=10:\n",
        "  print( nt,\"X\",i,\"=\", nt*i )\n",
        "  i+=1"
      ],
      "metadata": {
        "colab": {
          "base_uri": "https://localhost:8080/"
        },
        "id": "orKGCsJdIF6V",
        "outputId": "8069dabd-6f47-4692-d7c2-beaba1514f83"
      },
      "execution_count": 20,
      "outputs": [
        {
          "output_type": "stream",
          "name": "stdout",
          "text": [
            "Dime la tabla de multiplicar a generar: 7\n",
            "7 X 1 = 7\n",
            "7 X 2 = 14\n",
            "7 X 3 = 21\n",
            "7 X 4 = 28\n",
            "7 X 5 = 35\n",
            "7 X 6 = 42\n",
            "7 X 7 = 49\n",
            "7 X 8 = 56\n",
            "7 X 9 = 63\n",
            "7 X 10 = 70\n"
          ]
        }
      ]
    },
    {
      "cell_type": "code",
      "source": [
        "#hacer un programa que genera la tabla de multiplicar de x numero ingreso por el usuario\n",
        "nt = int(input(\"Dime la tabla que deseas generar: \"))\n",
        "for i in range(1,11): #i<11\n",
        "  print(nt,\"X\",i,\"=\", nt*i)"
      ],
      "metadata": {
        "colab": {
          "base_uri": "https://localhost:8080/"
        },
        "id": "mw6yMDeaILCG",
        "outputId": "9f79eb7e-09ec-44c0-d390-8a6d4c92031b"
      },
      "execution_count": 19,
      "outputs": [
        {
          "output_type": "stream",
          "name": "stdout",
          "text": [
            "Dime la tabla que deseas generar: 4\n",
            "4 X 1 = 4\n",
            "4 X 2 = 8\n",
            "4 X 3 = 12\n",
            "4 X 4 = 16\n",
            "4 X 5 = 20\n",
            "4 X 6 = 24\n",
            "4 X 7 = 28\n",
            "4 X 8 = 32\n",
            "4 X 9 = 36\n",
            "4 X 10 = 40\n"
          ]
        }
      ]
    },
    {
      "cell_type": "code",
      "source": [
        "#hacer un programa que genera la tabla de multiplicar de x numero ingreso por el usuario\n",
        "s = \"s\"\n",
        "while s==\"s\":\n",
        "  nt = int(input(\"Dime una tabla: \"))\n",
        "  for i in range(1, 11):\n",
        "    print(nt, \"X\",i,\"=\", nt*i)\n",
        "  s = input(\"¿Desea continuar? Presione la tecla 'S', sino precione otra: \")"
      ],
      "metadata": {
        "colab": {
          "base_uri": "https://localhost:8080/"
        },
        "id": "FKshg7S0IL8k",
        "outputId": "e6d8d198-c2e2-4fd9-a1ab-6f857038632b"
      },
      "execution_count": 18,
      "outputs": [
        {
          "name": "stdout",
          "output_type": "stream",
          "text": [
            "Dime una tabla: 9\n",
            "9 X 1 = 9\n",
            "9 X 2 = 18\n",
            "9 X 3 = 27\n",
            "9 X 4 = 36\n",
            "9 X 5 = 45\n",
            "9 X 6 = 54\n",
            "9 X 7 = 63\n",
            "9 X 8 = 72\n",
            "9 X 9 = 81\n",
            "9 X 10 = 90\n",
            "¿Desea continuar? Presione la tecla 'S', sino precione otra: N\n"
          ]
        }
      ]
    }
  ]
}